{
  "nbformat": 4,
  "nbformat_minor": 0,
  "metadata": {
    "kernelspec": {
      "display_name": "Python 3",
      "language": "python",
      "name": "python3"
    },
    "language_info": {
      "codemirror_mode": {
        "name": "ipython",
        "version": 3
      },
      "file_extension": ".py",
      "mimetype": "text/x-python",
      "name": "python",
      "nbconvert_exporter": "python",
      "pygments_lexer": "ipython3",
      "version": "3.7.7"
    },
    "colab": {
      "name": "credit_risk_resampling.ipynb",
      "provenance": []
    }
  },
  "cells": [
    {
      "cell_type": "markdown",
      "metadata": {
        "id": "sm4zo3Pr0j8Z"
      },
      "source": [
        "# Credit Risk Classification\n",
        "\n",
        "Credit risk poses a classification problem that’s inherently imbalanced. This is because healthy loans easily outnumber risky loans. In this Challenge, you’ll use various techniques to train and evaluate models with imbalanced classes. You’ll use a dataset of historical lending activity from a peer-to-peer lending services company to build a model that can identify the creditworthiness of borrowers.\n",
        "\n",
        "## Instructions:\n",
        "\n",
        "This challenge consists of the following subsections:\n",
        "\n",
        "* Split the Data into Training and Testing Sets\n",
        "\n",
        "* Create a Logistic Regression Model with the Original Data\n",
        "\n",
        "* Predict a Logistic Regression Model with Resampled Training Data \n",
        "\n",
        "### Split the Data into Training and Testing Sets\n",
        "\n",
        "Open the starter code notebook and then use it to complete the following steps.\n",
        "\n",
        "1. Read the `lending_data.csv` data from the `Resources` folder into a Pandas DataFrame.\n",
        "\n",
        "2. Create the labels set (`y`)  from the “loan_status” column, and then create the features (`X`) DataFrame from the remaining columns.\n",
        "\n",
        "    > **Note** A value of `0` in the “loan_status” column means that the loan is healthy. A value of `1` means that the loan has a high risk of defaulting.  \n",
        "\n",
        "3. Check the balance of the labels variable (`y`) by using the `value_counts` function.\n",
        "\n",
        "4. Split the data into training and testing datasets by using `train_test_split`.\n",
        "\n",
        "### Create a Logistic Regression Model with the Original Data\n",
        "\n",
        "Employ your knowledge of logistic regression to complete the following steps:\n",
        "\n",
        "1. Fit a logistic regression model by using the training data (`X_train` and `y_train`).\n",
        "\n",
        "2. Save the predictions on the testing data labels by using the testing feature data (`X_test`) and the fitted model.\n",
        "\n",
        "3. Evaluate the model’s performance by doing the following:\n",
        "\n",
        "    * Calculate the accuracy score of the model.\n",
        "\n",
        "    * Generate a confusion matrix.\n",
        "\n",
        "    * Print the classification report.\n",
        "\n",
        "4. Answer the following question: How well does the logistic regression model predict both the `0` (healthy loan) and `1` (high-risk loan) labels?\n",
        "\n",
        "### Predict a Logistic Regression Model with Resampled Training Data\n",
        "\n",
        "Did you notice the small number of high-risk loan labels? Perhaps, a model that uses resampled data will perform better. You’ll thus resample the training data and then reevaluate the model. Specifically, you’ll use `RandomOverSampler`.\n",
        "\n",
        "To do so, complete the following steps:\n",
        "\n",
        "1. Use the `RandomOverSampler` module from the imbalanced-learn library to resample the data. Be sure to confirm that the labels have an equal number of data points. \n",
        "\n",
        "2. Use the `LogisticRegression` classifier and the resampled data to fit the model and make predictions.\n",
        "\n",
        "3. Evaluate the model’s performance by doing the following:\n",
        "\n",
        "    * Calculate the accuracy score of the model.\n",
        "\n",
        "    * Generate a confusion matrix.\n",
        "\n",
        "    * Print the classification report.\n",
        "    \n",
        "4. Answer the following question: How well does the logistic regression model, fit with oversampled data, predict both the `0` (healthy loan) and `1` (high-risk loan) labels?\n",
        "\n",
        "### Write a Credit Risk Analysis Report\n",
        "\n",
        "For this section, you’ll write a brief report that includes a summary and an analysis of the performance of both machine learning models that you used in this challenge. You should write this report as the `README.md` file included in your GitHub repository.\n",
        "\n",
        "Structure your report by using the report template that `Starter_Code.zip` includes, and make sure that it contains the following:\n",
        "\n",
        "1. An overview of the analysis: Explain the purpose of this analysis.\n",
        "\n",
        "\n",
        "2. The results: Using bulleted lists, describe the balanced accuracy scores and the precision and recall scores of both machine learning models.\n",
        "\n",
        "3. A summary: Summarize the results from the machine learning models. Compare the two versions of the dataset predictions. Include your recommendation for the model to use, if any, on the original vs. the resampled data. If you don’t recommend either model, justify your reasoning."
      ]
    },
    {
      "cell_type": "code",
      "metadata": {
        "id": "S3YCuOsV0j8c"
      },
      "source": [
        "# Import the modules\n",
        "import numpy as np\n",
        "import pandas as pd\n",
        "from pathlib import Path\n",
        "from sklearn.metrics import balanced_accuracy_score\n",
        "from sklearn.metrics import confusion_matrix\n",
        "from sklearn.metrics import classification_report\n",
        "\n",
        "from imblearn.metrics import classification_report_imbalanced\n",
        "\n",
        "import warnings\n",
        "warnings.filterwarnings('ignore')"
      ],
      "execution_count": 42,
      "outputs": []
    },
    {
      "cell_type": "markdown",
      "metadata": {
        "id": "fLF6A-Cn0j8d"
      },
      "source": [
        "---"
      ]
    },
    {
      "cell_type": "markdown",
      "metadata": {
        "id": "mA0Wa2LE0j8e"
      },
      "source": [
        "## Split the Data into Training and Testing Sets"
      ]
    },
    {
      "cell_type": "code",
      "metadata": {
        "colab": {
          "base_uri": "https://localhost:8080/"
        },
        "id": "aWC_3Ilk1f7n",
        "outputId": "7cd7b393-ccce-4a9e-e4f3-e99eb9c72459"
      },
      "source": [
        "from google.colab import drive\n",
        "drive.mount('/content/drive')"
      ],
      "execution_count": 6,
      "outputs": [
        {
          "output_type": "stream",
          "text": [
            "Mounted at /content/drive\n"
          ],
          "name": "stdout"
        }
      ]
    },
    {
      "cell_type": "markdown",
      "metadata": {
        "id": "xDtxR3XJ0j8e"
      },
      "source": [
        "### Step 1: Read the `lending_data.csv` data from the `Resources` folder into a Pandas DataFrame."
      ]
    },
    {
      "cell_type": "code",
      "metadata": {
        "colab": {
          "base_uri": "https://localhost:8080/",
          "height": 419
        },
        "id": "0GgFD3lN0j8f",
        "outputId": "247e48dd-167e-4811-f5b2-13a5157d4072"
      },
      "source": [
        "# Read the CSV file from the Resources folder into a Pandas DataFrame\n",
        "# YOUR CODE HERE!\n",
        "lending_data_df = pd.read_csv(Path('/content/drive/MyDrive/Challenge12/Resources/lending_data.csv'))\n",
        "\n",
        "# Review the DataFrame\n",
        "# YOUR CODE HERE!\n",
        "lending_data_df.head(-5)"
      ],
      "execution_count": 24,
      "outputs": [
        {
          "output_type": "execute_result",
          "data": {
            "text/html": [
              "<div>\n",
              "<style scoped>\n",
              "    .dataframe tbody tr th:only-of-type {\n",
              "        vertical-align: middle;\n",
              "    }\n",
              "\n",
              "    .dataframe tbody tr th {\n",
              "        vertical-align: top;\n",
              "    }\n",
              "\n",
              "    .dataframe thead th {\n",
              "        text-align: right;\n",
              "    }\n",
              "</style>\n",
              "<table border=\"1\" class=\"dataframe\">\n",
              "  <thead>\n",
              "    <tr style=\"text-align: right;\">\n",
              "      <th></th>\n",
              "      <th>loan_size</th>\n",
              "      <th>interest_rate</th>\n",
              "      <th>borrower_income</th>\n",
              "      <th>debt_to_income</th>\n",
              "      <th>num_of_accounts</th>\n",
              "      <th>derogatory_marks</th>\n",
              "      <th>total_debt</th>\n",
              "      <th>loan_status</th>\n",
              "    </tr>\n",
              "  </thead>\n",
              "  <tbody>\n",
              "    <tr>\n",
              "      <th>0</th>\n",
              "      <td>10700.0</td>\n",
              "      <td>7.672</td>\n",
              "      <td>52800</td>\n",
              "      <td>0.431818</td>\n",
              "      <td>5</td>\n",
              "      <td>1</td>\n",
              "      <td>22800</td>\n",
              "      <td>0</td>\n",
              "    </tr>\n",
              "    <tr>\n",
              "      <th>1</th>\n",
              "      <td>8400.0</td>\n",
              "      <td>6.692</td>\n",
              "      <td>43600</td>\n",
              "      <td>0.311927</td>\n",
              "      <td>3</td>\n",
              "      <td>0</td>\n",
              "      <td>13600</td>\n",
              "      <td>0</td>\n",
              "    </tr>\n",
              "    <tr>\n",
              "      <th>2</th>\n",
              "      <td>9000.0</td>\n",
              "      <td>6.963</td>\n",
              "      <td>46100</td>\n",
              "      <td>0.349241</td>\n",
              "      <td>3</td>\n",
              "      <td>0</td>\n",
              "      <td>16100</td>\n",
              "      <td>0</td>\n",
              "    </tr>\n",
              "    <tr>\n",
              "      <th>3</th>\n",
              "      <td>10700.0</td>\n",
              "      <td>7.664</td>\n",
              "      <td>52700</td>\n",
              "      <td>0.430740</td>\n",
              "      <td>5</td>\n",
              "      <td>1</td>\n",
              "      <td>22700</td>\n",
              "      <td>0</td>\n",
              "    </tr>\n",
              "    <tr>\n",
              "      <th>4</th>\n",
              "      <td>10800.0</td>\n",
              "      <td>7.698</td>\n",
              "      <td>53000</td>\n",
              "      <td>0.433962</td>\n",
              "      <td>5</td>\n",
              "      <td>1</td>\n",
              "      <td>23000</td>\n",
              "      <td>0</td>\n",
              "    </tr>\n",
              "    <tr>\n",
              "      <th>...</th>\n",
              "      <td>...</td>\n",
              "      <td>...</td>\n",
              "      <td>...</td>\n",
              "      <td>...</td>\n",
              "      <td>...</td>\n",
              "      <td>...</td>\n",
              "      <td>...</td>\n",
              "      <td>...</td>\n",
              "    </tr>\n",
              "    <tr>\n",
              "      <th>77526</th>\n",
              "      <td>18300.0</td>\n",
              "      <td>10.895</td>\n",
              "      <td>83100</td>\n",
              "      <td>0.638989</td>\n",
              "      <td>11</td>\n",
              "      <td>2</td>\n",
              "      <td>53100</td>\n",
              "      <td>1</td>\n",
              "    </tr>\n",
              "    <tr>\n",
              "      <th>77527</th>\n",
              "      <td>20900.0</td>\n",
              "      <td>11.988</td>\n",
              "      <td>93400</td>\n",
              "      <td>0.678801</td>\n",
              "      <td>14</td>\n",
              "      <td>3</td>\n",
              "      <td>63400</td>\n",
              "      <td>1</td>\n",
              "    </tr>\n",
              "    <tr>\n",
              "      <th>77528</th>\n",
              "      <td>15100.0</td>\n",
              "      <td>9.557</td>\n",
              "      <td>70500</td>\n",
              "      <td>0.574468</td>\n",
              "      <td>9</td>\n",
              "      <td>2</td>\n",
              "      <td>40500</td>\n",
              "      <td>1</td>\n",
              "    </tr>\n",
              "    <tr>\n",
              "      <th>77529</th>\n",
              "      <td>19300.0</td>\n",
              "      <td>11.347</td>\n",
              "      <td>87400</td>\n",
              "      <td>0.656751</td>\n",
              "      <td>12</td>\n",
              "      <td>2</td>\n",
              "      <td>57400</td>\n",
              "      <td>1</td>\n",
              "    </tr>\n",
              "    <tr>\n",
              "      <th>77530</th>\n",
              "      <td>19700.0</td>\n",
              "      <td>11.508</td>\n",
              "      <td>88900</td>\n",
              "      <td>0.662542</td>\n",
              "      <td>13</td>\n",
              "      <td>2</td>\n",
              "      <td>58900</td>\n",
              "      <td>1</td>\n",
              "    </tr>\n",
              "  </tbody>\n",
              "</table>\n",
              "<p>77531 rows × 8 columns</p>\n",
              "</div>"
            ],
            "text/plain": [
              "       loan_size  interest_rate  ...  total_debt  loan_status\n",
              "0        10700.0          7.672  ...       22800            0\n",
              "1         8400.0          6.692  ...       13600            0\n",
              "2         9000.0          6.963  ...       16100            0\n",
              "3        10700.0          7.664  ...       22700            0\n",
              "4        10800.0          7.698  ...       23000            0\n",
              "...          ...            ...  ...         ...          ...\n",
              "77526    18300.0         10.895  ...       53100            1\n",
              "77527    20900.0         11.988  ...       63400            1\n",
              "77528    15100.0          9.557  ...       40500            1\n",
              "77529    19300.0         11.347  ...       57400            1\n",
              "77530    19700.0         11.508  ...       58900            1\n",
              "\n",
              "[77531 rows x 8 columns]"
            ]
          },
          "metadata": {
            "tags": []
          },
          "execution_count": 24
        }
      ]
    },
    {
      "cell_type": "markdown",
      "metadata": {
        "id": "G7XWch4f0j8g"
      },
      "source": [
        "### Step 2: Create the labels set (`y`)  from the “loan_status” column, and then create the features (`X`) DataFrame from the remaining columns."
      ]
    },
    {
      "cell_type": "code",
      "metadata": {
        "id": "PSWSBnHA0j8g"
      },
      "source": [
        "# Separate the data into labels and features\n",
        "\n",
        "# Separate the y variable, the labels\n",
        "# YOUR CODE HERE!]\n",
        "y = lending_data_df['loan_status']\n",
        "# Separate the X variable, the features\n",
        "# YOUR CODE HERE!\n",
        "X = lending_data_df.drop(columns='loan_status')"
      ],
      "execution_count": 8,
      "outputs": []
    },
    {
      "cell_type": "code",
      "metadata": {
        "colab": {
          "base_uri": "https://localhost:8080/"
        },
        "id": "AOKC6u-y0j8h",
        "outputId": "25050e23-6520-429e-846c-7e9e657c23c1"
      },
      "source": [
        "# Review the y variable Series\n",
        "# YOUR CODE HERE!\n",
        "y[:5]"
      ],
      "execution_count": 9,
      "outputs": [
        {
          "output_type": "execute_result",
          "data": {
            "text/plain": [
              "0    0\n",
              "1    0\n",
              "2    0\n",
              "3    0\n",
              "4    0\n",
              "Name: loan_status, dtype: int64"
            ]
          },
          "metadata": {
            "tags": []
          },
          "execution_count": 9
        }
      ]
    },
    {
      "cell_type": "code",
      "metadata": {
        "colab": {
          "base_uri": "https://localhost:8080/",
          "height": 204
        },
        "id": "kfgR8V4A0j8h",
        "outputId": "b9f51479-8122-406d-e071-59b3c609d48c"
      },
      "source": [
        "# Review the X variable DataFrame\n",
        "# YOUR CODE HERE!\n",
        "X[:5]"
      ],
      "execution_count": 10,
      "outputs": [
        {
          "output_type": "execute_result",
          "data": {
            "text/html": [
              "<div>\n",
              "<style scoped>\n",
              "    .dataframe tbody tr th:only-of-type {\n",
              "        vertical-align: middle;\n",
              "    }\n",
              "\n",
              "    .dataframe tbody tr th {\n",
              "        vertical-align: top;\n",
              "    }\n",
              "\n",
              "    .dataframe thead th {\n",
              "        text-align: right;\n",
              "    }\n",
              "</style>\n",
              "<table border=\"1\" class=\"dataframe\">\n",
              "  <thead>\n",
              "    <tr style=\"text-align: right;\">\n",
              "      <th></th>\n",
              "      <th>loan_size</th>\n",
              "      <th>interest_rate</th>\n",
              "      <th>borrower_income</th>\n",
              "      <th>debt_to_income</th>\n",
              "      <th>num_of_accounts</th>\n",
              "      <th>derogatory_marks</th>\n",
              "      <th>total_debt</th>\n",
              "    </tr>\n",
              "  </thead>\n",
              "  <tbody>\n",
              "    <tr>\n",
              "      <th>0</th>\n",
              "      <td>10700.0</td>\n",
              "      <td>7.672</td>\n",
              "      <td>52800</td>\n",
              "      <td>0.431818</td>\n",
              "      <td>5</td>\n",
              "      <td>1</td>\n",
              "      <td>22800</td>\n",
              "    </tr>\n",
              "    <tr>\n",
              "      <th>1</th>\n",
              "      <td>8400.0</td>\n",
              "      <td>6.692</td>\n",
              "      <td>43600</td>\n",
              "      <td>0.311927</td>\n",
              "      <td>3</td>\n",
              "      <td>0</td>\n",
              "      <td>13600</td>\n",
              "    </tr>\n",
              "    <tr>\n",
              "      <th>2</th>\n",
              "      <td>9000.0</td>\n",
              "      <td>6.963</td>\n",
              "      <td>46100</td>\n",
              "      <td>0.349241</td>\n",
              "      <td>3</td>\n",
              "      <td>0</td>\n",
              "      <td>16100</td>\n",
              "    </tr>\n",
              "    <tr>\n",
              "      <th>3</th>\n",
              "      <td>10700.0</td>\n",
              "      <td>7.664</td>\n",
              "      <td>52700</td>\n",
              "      <td>0.430740</td>\n",
              "      <td>5</td>\n",
              "      <td>1</td>\n",
              "      <td>22700</td>\n",
              "    </tr>\n",
              "    <tr>\n",
              "      <th>4</th>\n",
              "      <td>10800.0</td>\n",
              "      <td>7.698</td>\n",
              "      <td>53000</td>\n",
              "      <td>0.433962</td>\n",
              "      <td>5</td>\n",
              "      <td>1</td>\n",
              "      <td>23000</td>\n",
              "    </tr>\n",
              "  </tbody>\n",
              "</table>\n",
              "</div>"
            ],
            "text/plain": [
              "   loan_size  interest_rate  ...  derogatory_marks  total_debt\n",
              "0    10700.0          7.672  ...                 1       22800\n",
              "1     8400.0          6.692  ...                 0       13600\n",
              "2     9000.0          6.963  ...                 0       16100\n",
              "3    10700.0          7.664  ...                 1       22700\n",
              "4    10800.0          7.698  ...                 1       23000\n",
              "\n",
              "[5 rows x 7 columns]"
            ]
          },
          "metadata": {
            "tags": []
          },
          "execution_count": 10
        }
      ]
    },
    {
      "cell_type": "markdown",
      "metadata": {
        "id": "VN6uhKvJ0j8h"
      },
      "source": [
        "### Step 3: Check the balance of the labels variable (`y`) by using the `value_counts` function."
      ]
    },
    {
      "cell_type": "code",
      "metadata": {
        "colab": {
          "base_uri": "https://localhost:8080/"
        },
        "id": "5o-TD3Gw0j8i",
        "outputId": "50e3c2ba-9b9b-45ee-ab7a-1a2b8e0a0f1c"
      },
      "source": [
        "# Check the balance of our target values\n",
        "# YOUR CODE HERE!\n",
        "y.value_counts()"
      ],
      "execution_count": 11,
      "outputs": [
        {
          "output_type": "execute_result",
          "data": {
            "text/plain": [
              "0    75036\n",
              "1     2500\n",
              "Name: loan_status, dtype: int64"
            ]
          },
          "metadata": {
            "tags": []
          },
          "execution_count": 11
        }
      ]
    },
    {
      "cell_type": "markdown",
      "metadata": {
        "id": "qHR3Sn5D0j8i"
      },
      "source": [
        "### Step 4: Split the data into training and testing datasets by using `train_test_split`."
      ]
    },
    {
      "cell_type": "code",
      "metadata": {
        "id": "Y494ptoh0j8i"
      },
      "source": [
        "# Import the train_test_learn module\n",
        "from sklearn.model_selection import train_test_split\n",
        "\n",
        "# Split the data using train_test_split\n",
        "# Assign a random_state of 1 to the function\n",
        "# YOUR CODE HERE!\n",
        "X_train, X_test, y_train, y_test = train_test_split(X, y, random_state=1)\n"
      ],
      "execution_count": 12,
      "outputs": []
    },
    {
      "cell_type": "markdown",
      "metadata": {
        "id": "probmAt50j8j"
      },
      "source": [
        "---"
      ]
    },
    {
      "cell_type": "markdown",
      "metadata": {
        "id": "ijqJRSuc0j8j"
      },
      "source": [
        "## Create a Logistic Regression Model with the Original Data"
      ]
    },
    {
      "cell_type": "markdown",
      "metadata": {
        "id": "QLudM8aD0j8j"
      },
      "source": [
        "###  Step 1: Fit a logistic regression model by using the training data (`X_train` and `y_train`)."
      ]
    },
    {
      "cell_type": "code",
      "metadata": {
        "colab": {
          "base_uri": "https://localhost:8080/"
        },
        "id": "qktkwzci0j8j",
        "outputId": "88861516-8544-4dec-8ae4-eb03425c18db"
      },
      "source": [
        "# Import the LogisticRegression module from SKLearn\n",
        "from sklearn.linear_model import LogisticRegression\n",
        "\n",
        "# Instantiate the Logistic Regression model\n",
        "# Assign a random_state parameter of 1 to the model\n",
        "# YOUR CODE HERE!\n",
        "logistic_regression_model = LogisticRegression(random_state = 1)\n",
        "\n",
        "# Fit the model using training data\n",
        "# YOUR CODE HERE!\n",
        "logistic_regression_model.fit(X_train, y_train)\n"
      ],
      "execution_count": 25,
      "outputs": [
        {
          "output_type": "execute_result",
          "data": {
            "text/plain": [
              "LogisticRegression(C=1.0, class_weight=None, dual=False, fit_intercept=True,\n",
              "                   intercept_scaling=1, l1_ratio=None, max_iter=100,\n",
              "                   multi_class='auto', n_jobs=None, penalty='l2',\n",
              "                   random_state=1, solver='lbfgs', tol=0.0001, verbose=0,\n",
              "                   warm_start=False)"
            ]
          },
          "metadata": {
            "tags": []
          },
          "execution_count": 25
        }
      ]
    },
    {
      "cell_type": "markdown",
      "metadata": {
        "id": "9d4XMo8k0j8k"
      },
      "source": [
        "### Step 2: Save the predictions on the testing data labels by using the testing feature data (`X_test`) and the fitted model."
      ]
    },
    {
      "cell_type": "code",
      "metadata": {
        "id": "kJWoDCDU0j8k"
      },
      "source": [
        "# Make a prediction using the testing data\n",
        "# YOUR CODE HERE!\n",
        "predictions = lending_model.predict(X_train)\n",
        "training_predictions = logistic_regression_model.predict(X_train)\n"
      ],
      "execution_count": 27,
      "outputs": []
    },
    {
      "cell_type": "markdown",
      "metadata": {
        "id": "2uUVi1wB0j8k"
      },
      "source": [
        "### Step 3: Evaluate the model’s performance by doing the following:\n",
        "\n",
        "* Calculate the accuracy score of the model.\n",
        "\n",
        "* Generate a confusion matrix.\n",
        "\n",
        "* Print the classification report."
      ]
    },
    {
      "cell_type": "code",
      "metadata": {
        "colab": {
          "base_uri": "https://localhost:8080/"
        },
        "id": "jJgWYLxu0j8k",
        "outputId": "28480038-96df-4844-857b-889e1e16aa6e"
      },
      "source": [
        "# Print the balanced_accuracy score of the model\n",
        "# YOUR CODE HERE!\n",
        "print(balanced_accuracy_score(y_train, training_predictions))\n"
      ],
      "execution_count": 28,
      "outputs": [
        {
          "output_type": "stream",
          "text": [
            "0.9494259906569136\n"
          ],
          "name": "stdout"
        }
      ]
    },
    {
      "cell_type": "code",
      "metadata": {
        "colab": {
          "base_uri": "https://localhost:8080/"
        },
        "id": "7Y5alIlC0j8l",
        "outputId": "068eee95-83ae-4158-a35c-1ad9609bbda2"
      },
      "source": [
        "# Generate a confusion matrix for the model\n",
        "# YOUR CODE HERE!\n",
        "confusion_matrix(y_train, training_predictions)\n"
      ],
      "execution_count": 29,
      "outputs": [
        {
          "output_type": "execute_result",
          "data": {
            "text/plain": [
              "array([[55994,   277],\n",
              "       [  181,  1700]])"
            ]
          },
          "metadata": {
            "tags": []
          },
          "execution_count": 29
        }
      ]
    },
    {
      "cell_type": "code",
      "metadata": {
        "colab": {
          "base_uri": "https://localhost:8080/"
        },
        "id": "dqF1fMbQ0j8l",
        "outputId": "060e9513-9ac4-43a8-c1eb-793a8fc5030a"
      },
      "source": [
        "# Print the classification report for the model\n",
        "# YOUR CODE HERE!\n",
        "print(classification_report_imbalanced(y_train, training_predictions))\n"
      ],
      "execution_count": 30,
      "outputs": [
        {
          "output_type": "stream",
          "text": [
            "                   pre       rec       spe        f1       geo       iba       sup\n",
            "\n",
            "          0       1.00      1.00      0.90      1.00      0.95      0.91     56271\n",
            "          1       0.86      0.90      1.00      0.88      0.95      0.89      1881\n",
            "\n",
            "avg / total       0.99      0.99      0.91      0.99      0.95      0.91     58152\n",
            "\n"
          ],
          "name": "stdout"
        }
      ]
    },
    {
      "cell_type": "markdown",
      "metadata": {
        "id": "XxA5uqUZ0j8l"
      },
      "source": [
        "### Step 4: Answer the following question."
      ]
    },
    {
      "cell_type": "markdown",
      "metadata": {
        "id": "nHej_6Gg0j8l"
      },
      "source": [
        "**Question:** How well does the logistic regression model predict both the `0` (healthy loan) and `1` (high-risk loan) labels?\n",
        "\n",
        "**Answer:**  healthy loans correct 100% of the time, high risk loans 85% of the time."
      ]
    },
    {
      "cell_type": "markdown",
      "metadata": {
        "id": "aRW6S4ay0j8m"
      },
      "source": [
        "---"
      ]
    },
    {
      "cell_type": "markdown",
      "metadata": {
        "id": "M0f0RUQB0j8m"
      },
      "source": [
        "## Predict a Logistic Regression Model with Resampled Training Data"
      ]
    },
    {
      "cell_type": "markdown",
      "metadata": {
        "id": "uPOhFaOj0j8m"
      },
      "source": [
        "### Step 1: Use the `RandomOverSampler` module from the imbalanced-learn library to resample the data. Be sure to confirm that the labels have an equal number of data points. "
      ]
    },
    {
      "cell_type": "code",
      "metadata": {
        "id": "tsoXwj2m0j8m"
      },
      "source": [
        "# Import the RandomOverSampler module form imbalanced-learn\n",
        "from imblearn.over_sampling import RandomOverSampler\n",
        "\n",
        "# Instantiate the random oversampler model\n",
        "# # Assign a random_state parameter of 1 to the model\n",
        "# YOUR CODE HERE!\n",
        "random_oversampler = RandomOverSampler(random_state=1)\n",
        "\n",
        "# Fit the original training data to the random_oversampler model\n",
        "# YOUR CODE HERE!\n",
        "X_resampled, y_resampled = random_oversampler.fit_resample(X_train, y_train)\n"
      ],
      "execution_count": 31,
      "outputs": []
    },
    {
      "cell_type": "code",
      "metadata": {
        "colab": {
          "base_uri": "https://localhost:8080/",
          "height": 197
        },
        "id": "4LT3IJf50j8m",
        "outputId": "aa76e8bc-e913-495f-e6fa-8434cf1cf106"
      },
      "source": [
        "# Count the distinct values of the resampled labels data\n",
        "# YOUR CODE HERE!\n",
        "y_resampled.value_counts()\n"
      ],
      "execution_count": 43,
      "outputs": [
        {
          "output_type": "error",
          "ename": "AttributeError",
          "evalue": "ignored",
          "traceback": [
            "\u001b[0;31m---------------------------------------------------------------------------\u001b[0m",
            "\u001b[0;31mAttributeError\u001b[0m                            Traceback (most recent call last)",
            "\u001b[0;32m<ipython-input-43-e10edf30e7b9>\u001b[0m in \u001b[0;36m<module>\u001b[0;34m()\u001b[0m\n\u001b[1;32m      1\u001b[0m \u001b[0;31m# Count the distinct values of the resampled labels data\u001b[0m\u001b[0;34m\u001b[0m\u001b[0;34m\u001b[0m\u001b[0;34m\u001b[0m\u001b[0m\n\u001b[1;32m      2\u001b[0m \u001b[0;31m# YOUR CODE HERE!\u001b[0m\u001b[0;34m\u001b[0m\u001b[0;34m\u001b[0m\u001b[0;34m\u001b[0m\u001b[0m\n\u001b[0;32m----> 3\u001b[0;31m \u001b[0my_resampled\u001b[0m\u001b[0;34m.\u001b[0m\u001b[0mvalue_counts\u001b[0m\u001b[0;34m(\u001b[0m\u001b[0;34m)\u001b[0m\u001b[0;34m\u001b[0m\u001b[0;34m\u001b[0m\u001b[0m\n\u001b[0m",
            "\u001b[0;31mAttributeError\u001b[0m: 'numpy.ndarray' object has no attribute 'value_counts'"
          ]
        }
      ]
    },
    {
      "cell_type": "markdown",
      "metadata": {
        "id": "UId3J8860j8n"
      },
      "source": [
        "### Step 2: Use the `LogisticRegression` classifier and the resampled data to fit the model and make predictions."
      ]
    },
    {
      "cell_type": "code",
      "metadata": {
        "id": "LpzwGtKt0j8n"
      },
      "source": [
        "# Instantiate the Logistic Regression model\n",
        "# Assign a random_state parameter of 1 to the model\n",
        "# YOUR CODE HERE!\n",
        "logistic_regression_model = LogisticRegression(random_state = 1)\n",
        "\n",
        "# Fit the model using the resampled training data\n",
        "# YOUR CODE HERE!\n",
        "logistic_regression_model.fit(X_resampled, y_resampled)\n",
        "\n",
        "# Make a prediction using the testing data\n",
        "# YOUR CODE HERE!\n",
        "testing_predictions = logistic_regression_model.predict(X_test)\n"
      ],
      "execution_count": 38,
      "outputs": []
    },
    {
      "cell_type": "markdown",
      "metadata": {
        "id": "_POAHKyG0j8o"
      },
      "source": [
        "### Step 3: Evaluate the model’s performance by doing the following:\n",
        "\n",
        "* Calculate the accuracy score of the model.\n",
        "\n",
        "* Generate a confusion matrix.\n",
        "\n",
        "* Print the classification report."
      ]
    },
    {
      "cell_type": "code",
      "metadata": {
        "colab": {
          "base_uri": "https://localhost:8080/"
        },
        "id": "39wMXbIG0j8o",
        "outputId": "394bca5b-2938-42a7-b07a-8abee5c7d879"
      },
      "source": [
        "# Print the balanced_accuracy score of the model \n",
        "# YOUR CODE HERE!\n",
        "print(balanced_accuracy_score(y_test, testing_predictions))\n"
      ],
      "execution_count": 39,
      "outputs": [
        {
          "output_type": "stream",
          "text": [
            "0.9936781215845847\n"
          ],
          "name": "stdout"
        }
      ]
    },
    {
      "cell_type": "code",
      "metadata": {
        "colab": {
          "base_uri": "https://localhost:8080/"
        },
        "id": "rOZu9vMO0j8o",
        "outputId": "569e160b-82b0-4dac-bb31-d25e3a9c3f1c"
      },
      "source": [
        "# Generate a confusion matrix for the model\n",
        "# YOUR CODE HERE!\n",
        "print(confusion_matrix(y_test, testing_predictions))\n"
      ],
      "execution_count": 40,
      "outputs": [
        {
          "output_type": "stream",
          "text": [
            "[[18649   116]\n",
            " [    4   615]]\n"
          ],
          "name": "stdout"
        }
      ]
    },
    {
      "cell_type": "code",
      "metadata": {
        "colab": {
          "base_uri": "https://localhost:8080/"
        },
        "id": "wXN3pitY0j8o",
        "outputId": "a8c73f5e-3591-4718-cc65-f1246f1f4ea1"
      },
      "source": [
        "# Print the classification report for the model\n",
        "# YOUR CODE HERE!\n",
        "print(classification_report(y_test, testing_predictions))\n"
      ],
      "execution_count": 44,
      "outputs": [
        {
          "output_type": "stream",
          "text": [
            "              precision    recall  f1-score   support\n",
            "\n",
            "           0       1.00      0.99      1.00     18765\n",
            "           1       0.84      0.99      0.91       619\n",
            "\n",
            "    accuracy                           0.99     19384\n",
            "   macro avg       0.92      0.99      0.95     19384\n",
            "weighted avg       0.99      0.99      0.99     19384\n",
            "\n"
          ],
          "name": "stdout"
        }
      ]
    },
    {
      "cell_type": "markdown",
      "metadata": {
        "id": "g33K9orK0j8p"
      },
      "source": [
        "### Step 4: Answer the following question"
      ]
    },
    {
      "cell_type": "markdown",
      "metadata": {
        "id": "XRpyExE30j8p"
      },
      "source": [
        "**Question:** How well does the logistic regression model, fit with oversampled data, predict both the `0` (healthy loan) and `1` (high-risk loan) labels?\n",
        "\n",
        "**Answer:** YOUR ANSWER HERE!\n",
        "The resampled model identified the 1 Class with only 84% pre and 99% rec. The model incorrectly classified 10-15% of the 1 Class predictions\n",
        "\n",
        "The Resampled Model identified the 0 Class with 100% pre and 99% rec. The model correctly classified effectively 100% of the 0 Class predictions\n",
        "\n"
      ]
    }
  ]
}